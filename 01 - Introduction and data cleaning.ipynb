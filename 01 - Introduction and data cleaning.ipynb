{
 "cells": [
  {
   "attachments": {},
   "cell_type": "markdown",
   "metadata": {},
   "source": [
    "# Ciclopi Case Study\n",
    "\n",
    "**Ciclopi** (www.ciclopi.eu) is a bike sharing service that is operating in Pisa since 2013. It is a station-based service: a registered user may pick up a bike from one of the stations in the town and can drop it in another station.\n",
    "\n",
    "The company running the service has provided us a dataset with the logs of all the operations on the system during 2015. An __operation__ is a digital trace containing the description of a pick of a bike from a dock in a station, the duration of the renting, and the drop off at the dock of the destination station. All these data are provided as a single table with multiple attributes (in italian):\n",
    " * Comune: The municipality where the station is located (in our case is Pisa)\n",
    " * Prelievo (Pick up):\n",
    "     * StazPrelievo: The station where the bike is picked up\n",
    "     * DataOraPrelievo: The timestamp when the bike was taken\n",
    "     * ColonninaPrelievo: The dock within the station where the bike was taken\n",
    " * Deposito (drop off):\n",
    "     * StazDeposito: The station where the bike is dropped\n",
    "     * DataOraDeposito: The timestamp when the bike was dropped\n",
    "     * ColonninaDeposito: The dock within the station where the bike was dropped\n",
    " * IDBadge: anonymized identification of the user taking the bike\n",
    " * NumeroBadge: anonymized identification of the user taking the bike\n",
    " \n",
    " \n",
    " ## Analytical Environment - Installation and Setup\n",
    " We are going to analyze these data using the Python environment and the Jupyter Notebook for managing the data.\n",
    " As a reference, we assume there is the Anaconda environment already installed.\n",
    " To be sure to have all the requirements aligned for the developing, we will create an Anaconda Environment dedicated for this task\n",
    "```\n",
    "$> conda create -n dvva python=3.6 anaconda -y\n",
    "```\n",
    "\n",
    "where //dvva// is a mnemonic name assigned to the new environment.\n",
    "Then we will activate the new created environment:\n",
    "\n",
    "```\n",
    "$> source activate dvva\n",
    "```\n",
    "\n",
    "and we will install the required packages:\n",
    "```\n",
    "conda install plotly=2.5.1  pandas=0.22.0 xlrd=1.1.0  geopandas=0.3.0 \n",
    "```\n",
    "\n",
    "The libraries we are installing are:\n",
    " * **plotly**: the library used to create charts\n",
    " * **pandas**\" a library to manage tabular data\n",
    " * **xlrd**: a library to read and parse Excel files\n",
    " * **geopandas**: extension of the pandas library to handle geometric and geographic data\n",
    "\n",
    "We are also installing a library to manage and create color palettes:\n",
    "```\n",
    "pip install colorlover\n",
    "```\n",
    "\n",
    "The previous step is done once for the working computer.\n",
    "For successive sessions of work, we will only activate the environment:\n",
    "```\n",
    "$> source activate dvva\n",
    "```\n",
    "\n",
    "\n",
    " "
   ]
  },
  {
   "cell_type": "markdown",
   "metadata": {},
   "source": [
    "## Preprocessing and cleaning"
   ]
  },
  {
   "cell_type": "code",
   "execution_count": 9,
   "metadata": {},
   "outputs": [],
   "source": [
    "# -*- coding: utf-8 -*-\n",
    "import pandas as pd\n",
    "import numpy as np\n",
    "pd.set_option('max_columns', 300)\n",
    "pd.set_option('max_rows', 10000)\n",
    "\n",
    "#elimino i warning\n",
    "import warnings\n",
    "warnings.filterwarnings(\"ignore\")"
   ]
  },
  {
   "cell_type": "markdown",
   "metadata": {},
   "source": [
    "We start by importing the data from a file."
   ]
  },
  {
   "cell_type": "code",
   "execution_count": 10,
   "metadata": {},
   "outputs": [
    {
     "data": {
      "text/html": [
       "<div>\n",
       "<style scoped>\n",
       "    .dataframe tbody tr th:only-of-type {\n",
       "        vertical-align: middle;\n",
       "    }\n",
       "\n",
       "    .dataframe tbody tr th {\n",
       "        vertical-align: top;\n",
       "    }\n",
       "\n",
       "    .dataframe thead th {\n",
       "        text-align: right;\n",
       "    }\n",
       "</style>\n",
       "<table border=\"1\" class=\"dataframe\">\n",
       "  <thead>\n",
       "    <tr style=\"text-align: right;\">\n",
       "      <th></th>\n",
       "      <th>Comune</th>\n",
       "      <th>StazPrelievo</th>\n",
       "      <th>DataOraPrelievo</th>\n",
       "      <th>ColonninaPrelievo</th>\n",
       "      <th>StazDeposito</th>\n",
       "      <th>ColonninaDeposito</th>\n",
       "      <th>DataOraDeposito</th>\n",
       "      <th>IDBadge</th>\n",
       "      <th>NumeroBadge</th>\n",
       "    </tr>\n",
       "  </thead>\n",
       "  <tbody>\n",
       "    <tr>\n",
       "      <th>0</th>\n",
       "      <td>Pisa</td>\n",
       "      <td>Palacongressi</td>\n",
       "      <td>2015-01-01 01:14:18.057</td>\n",
       "      <td>24</td>\n",
       "      <td>Sms Biblioteca</td>\n",
       "      <td>8</td>\n",
       "      <td>2015-01-01 01:18:31.380</td>\n",
       "      <td>159962</td>\n",
       "      <td>2367</td>\n",
       "    </tr>\n",
       "    <tr>\n",
       "      <th>1</th>\n",
       "      <td>Pisa</td>\n",
       "      <td>Comune Palazzo Blu</td>\n",
       "      <td>2015-01-01 04:10:20.740</td>\n",
       "      <td>2</td>\n",
       "      <td>Comune Palazzo Blu</td>\n",
       "      <td>2</td>\n",
       "      <td>2015-01-01 04:10:31.647</td>\n",
       "      <td>154539</td>\n",
       "      <td>2518</td>\n",
       "    </tr>\n",
       "    <tr>\n",
       "      <th>2</th>\n",
       "      <td>Pisa</td>\n",
       "      <td>Comune Palazzo Blu</td>\n",
       "      <td>2015-01-01 04:10:45.180</td>\n",
       "      <td>3</td>\n",
       "      <td>Sms Biblioteca</td>\n",
       "      <td>11</td>\n",
       "      <td>2015-01-01 04:20:04.047</td>\n",
       "      <td>154539</td>\n",
       "      <td>2518</td>\n",
       "    </tr>\n",
       "    <tr>\n",
       "      <th>3</th>\n",
       "      <td>Pisa</td>\n",
       "      <td>Palacongressi</td>\n",
       "      <td>2015-01-01 04:11:44.700</td>\n",
       "      <td>10</td>\n",
       "      <td>Sms Biblioteca</td>\n",
       "      <td>9</td>\n",
       "      <td>2015-01-01 04:19:04.143</td>\n",
       "      <td>141015</td>\n",
       "      <td>1989</td>\n",
       "    </tr>\n",
       "    <tr>\n",
       "      <th>4</th>\n",
       "      <td>Pisa</td>\n",
       "      <td>Borgo Stretto</td>\n",
       "      <td>2015-01-01 05:01:10.717</td>\n",
       "      <td>7</td>\n",
       "      <td>Paparelli</td>\n",
       "      <td>16</td>\n",
       "      <td>2015-01-01 05:08:14.623</td>\n",
       "      <td>142149</td>\n",
       "      <td>2003</td>\n",
       "    </tr>\n",
       "  </tbody>\n",
       "</table>\n",
       "</div>"
      ],
      "text/plain": [
       "  Comune        StazPrelievo          DataOraPrelievo  ColonninaPrelievo  \\\n",
       "0   Pisa       Palacongressi  2015-01-01 01:14:18.057                 24   \n",
       "1   Pisa  Comune Palazzo Blu  2015-01-01 04:10:20.740                  2   \n",
       "2   Pisa  Comune Palazzo Blu  2015-01-01 04:10:45.180                  3   \n",
       "3   Pisa       Palacongressi  2015-01-01 04:11:44.700                 10   \n",
       "4   Pisa       Borgo Stretto  2015-01-01 05:01:10.717                  7   \n",
       "\n",
       "         StazDeposito  ColonninaDeposito          DataOraDeposito  IDBadge  \\\n",
       "0      Sms Biblioteca                  8  2015-01-01 01:18:31.380   159962   \n",
       "1  Comune Palazzo Blu                  2  2015-01-01 04:10:31.647   154539   \n",
       "2      Sms Biblioteca                 11  2015-01-01 04:20:04.047   154539   \n",
       "3      Sms Biblioteca                  9  2015-01-01 04:19:04.143   141015   \n",
       "4           Paparelli                 16  2015-01-01 05:08:14.623   142149   \n",
       "\n",
       "   NumeroBadge  \n",
       "0         2367  \n",
       "1         2518  \n",
       "2         2518  \n",
       "3         1989  \n",
       "4         2003  "
      ]
     },
     "execution_count": 10,
     "metadata": {},
     "output_type": "execute_result"
    }
   ],
   "source": [
    "ciclopi=pd.read_excel(\"data_in/Pisa_Operazioni_2015.xlsx\")\n",
    "ciclopi.head()"
   ]
  },
  {
   "cell_type": "markdown",
   "metadata": {},
   "source": [
    "Let's check the dimension of the dataset by inspecting the number of rows and columns - output is (row,columns)"
   ]
  },
  {
   "cell_type": "code",
   "execution_count": 11,
   "metadata": {},
   "outputs": [
    {
     "data": {
      "text/plain": [
       "(173332, 9)"
      ]
     },
     "execution_count": 11,
     "metadata": {},
     "output_type": "execute_result"
    }
   ],
   "source": [
    "ciclopi.shape"
   ]
  },
  {
   "cell_type": "markdown",
   "metadata": {},
   "source": [
    "We check if there are problems in the data, like missing values, incongruent values, repetitions, etc. \n",
    "Let's start by checking the presence of null values."
   ]
  },
  {
   "cell_type": "code",
   "execution_count": 12,
   "metadata": {},
   "outputs": [
    {
     "data": {
      "text/html": [
       "<div>\n",
       "<style scoped>\n",
       "    .dataframe tbody tr th:only-of-type {\n",
       "        vertical-align: middle;\n",
       "    }\n",
       "\n",
       "    .dataframe tbody tr th {\n",
       "        vertical-align: top;\n",
       "    }\n",
       "\n",
       "    .dataframe thead th {\n",
       "        text-align: right;\n",
       "    }\n",
       "</style>\n",
       "<table border=\"1\" class=\"dataframe\">\n",
       "  <thead>\n",
       "    <tr style=\"text-align: right;\">\n",
       "      <th></th>\n",
       "      <th>Comune</th>\n",
       "      <th>StazPrelievo</th>\n",
       "      <th>DataOraPrelievo</th>\n",
       "      <th>ColonninaPrelievo</th>\n",
       "      <th>StazDeposito</th>\n",
       "      <th>ColonninaDeposito</th>\n",
       "      <th>DataOraDeposito</th>\n",
       "      <th>IDBadge</th>\n",
       "      <th>NumeroBadge</th>\n",
       "    </tr>\n",
       "  </thead>\n",
       "  <tbody>\n",
       "  </tbody>\n",
       "</table>\n",
       "</div>"
      ],
      "text/plain": [
       "Empty DataFrame\n",
       "Columns: [Comune, StazPrelievo, DataOraPrelievo, ColonninaPrelievo, StazDeposito, ColonninaDeposito, DataOraDeposito, IDBadge, NumeroBadge]\n",
       "Index: []"
      ]
     },
     "execution_count": 12,
     "metadata": {},
     "output_type": "execute_result"
    }
   ],
   "source": [
    "ciclopi[ciclopi.isnull().any(axis=1)]"
   ]
  },
  {
   "cell_type": "markdown",
   "metadata": {},
   "source": [
    "All the locations in the table contain a value.\n",
    "\n",
    "\n",
    "Let's check the data type of each column."
   ]
  },
  {
   "cell_type": "code",
   "execution_count": 13,
   "metadata": {},
   "outputs": [
    {
     "data": {
      "text/plain": [
       "Comune               object\n",
       "StazPrelievo         object\n",
       "DataOraPrelievo      object\n",
       "ColonninaPrelievo     int64\n",
       "StazDeposito         object\n",
       "ColonninaDeposito     int64\n",
       "DataOraDeposito      object\n",
       "IDBadge               int64\n",
       "NumeroBadge           int64\n",
       "dtype: object"
      ]
     },
     "execution_count": 13,
     "metadata": {},
     "output_type": "execute_result"
    }
   ],
   "source": [
    "ciclopi.dtypes "
   ]
  },
  {
   "cell_type": "markdown",
   "metadata": {},
   "source": [
    "From the list of data types of each column, some types requires further investigations:\n",
    " * The attributes _IDBadge_ and _NumeroBadge_ seems very similar. Which is their content?\n",
    " * The attributes with a timestamp (DataOra) do not have a data type related to temporal values"
   ]
  },
  {
   "cell_type": "markdown",
   "metadata": {},
   "source": [
    "### Removal of redundant data\n",
    "Let's start by checking if _IDBadge_ and _NumeroBadge_ are redundant. If they are, one of the two columns may be removed."
   ]
  },
  {
   "cell_type": "code",
   "execution_count": 14,
   "metadata": {},
   "outputs": [
    {
     "name": "stdout",
     "output_type": "stream",
     "text": [
      "2266\n",
      "2266\n"
     ]
    },
    {
     "data": {
      "text/plain": [
       "2266"
      ]
     },
     "execution_count": 14,
     "metadata": {},
     "output_type": "execute_result"
    }
   ],
   "source": [
    "print(len(ciclopi.IDBadge.unique())) # Let's count the distinct values of the _IDBadge_ column\n",
    "print(len(ciclopi.NumeroBadge.unique())) # Let's count the distinct values of the _NumeroBadge_ column\n",
    "len(ciclopi.groupby(by=['NumeroBadge','IDBadge'])) # Let's count if they always occur in pairs"
   ]
  },
  {
   "cell_type": "code",
   "execution_count": 15,
   "metadata": {},
   "outputs": [],
   "source": [
    "ciclopi=ciclopi.drop('NumeroBadge',axis=1) #drop 'NumeroBadge'"
   ]
  },
  {
   "cell_type": "markdown",
   "metadata": {},
   "source": [
    "Since all the operations are perfomed in Pisa, we can drop _Comune_ column."
   ]
  },
  {
   "cell_type": "code",
   "execution_count": 16,
   "metadata": {},
   "outputs": [],
   "source": [
    "ciclopi=ciclopi.drop('Comune',axis=1)"
   ]
  },
  {
   "cell_type": "markdown",
   "metadata": {},
   "source": [
    "### Converting data types\n",
    "Now let's focus on the time related attributes. Convert strings contained in _DataOraPrelievo_ and _DataOraDeposito_ to datetime type."
   ]
  },
  {
   "cell_type": "code",
   "execution_count": 17,
   "metadata": {},
   "outputs": [
    {
     "data": {
      "text/plain": [
       "DataOraPrelievo    datetime64[ns]\n",
       "DataOraDeposito    datetime64[ns]\n",
       "dtype: object"
      ]
     },
     "execution_count": 17,
     "metadata": {},
     "output_type": "execute_result"
    }
   ],
   "source": [
    "ciclopi['DataOraPrelievo']=pd.to_datetime(ciclopi['DataOraPrelievo'])\n",
    "ciclopi['DataOraDeposito']=pd.to_datetime(ciclopi['DataOraDeposito'])\n",
    "ciclopi[['DataOraPrelievo','DataOraDeposito']].dtypes #check the type of new columns"
   ]
  },
  {
   "cell_type": "code",
   "execution_count": 20,
   "metadata": {},
   "outputs": [
    {
     "data": {
      "text/html": [
       "<div>\n",
       "<style scoped>\n",
       "    .dataframe tbody tr th:only-of-type {\n",
       "        vertical-align: middle;\n",
       "    }\n",
       "\n",
       "    .dataframe tbody tr th {\n",
       "        vertical-align: top;\n",
       "    }\n",
       "\n",
       "    .dataframe thead th {\n",
       "        text-align: right;\n",
       "    }\n",
       "</style>\n",
       "<table border=\"1\" class=\"dataframe\">\n",
       "  <thead>\n",
       "    <tr style=\"text-align: right;\">\n",
       "      <th></th>\n",
       "      <th>DataOraPrelievo</th>\n",
       "      <th>DataOraDeposito</th>\n",
       "    </tr>\n",
       "  </thead>\n",
       "  <tbody>\n",
       "    <tr>\n",
       "      <th>0</th>\n",
       "      <td>2015-01-01 01:14:18.057</td>\n",
       "      <td>2015-01-01 01:18:31.380</td>\n",
       "    </tr>\n",
       "    <tr>\n",
       "      <th>1</th>\n",
       "      <td>2015-01-01 04:10:20.740</td>\n",
       "      <td>2015-01-01 04:10:31.647</td>\n",
       "    </tr>\n",
       "    <tr>\n",
       "      <th>2</th>\n",
       "      <td>2015-01-01 04:10:45.180</td>\n",
       "      <td>2015-01-01 04:20:04.047</td>\n",
       "    </tr>\n",
       "    <tr>\n",
       "      <th>3</th>\n",
       "      <td>2015-01-01 04:11:44.700</td>\n",
       "      <td>2015-01-01 04:19:04.143</td>\n",
       "    </tr>\n",
       "    <tr>\n",
       "      <th>4</th>\n",
       "      <td>2015-01-01 05:01:10.717</td>\n",
       "      <td>2015-01-01 05:08:14.623</td>\n",
       "    </tr>\n",
       "  </tbody>\n",
       "</table>\n",
       "</div>"
      ],
      "text/plain": [
       "          DataOraPrelievo         DataOraDeposito\n",
       "0 2015-01-01 01:14:18.057 2015-01-01 01:18:31.380\n",
       "1 2015-01-01 04:10:20.740 2015-01-01 04:10:31.647\n",
       "2 2015-01-01 04:10:45.180 2015-01-01 04:20:04.047\n",
       "3 2015-01-01 04:11:44.700 2015-01-01 04:19:04.143\n",
       "4 2015-01-01 05:01:10.717 2015-01-01 05:08:14.623"
      ]
     },
     "execution_count": 20,
     "metadata": {},
     "output_type": "execute_result"
    }
   ],
   "source": [
    "ciclopi[['DataOraPrelievo','DataOraDeposito']].head() # overview of the content of the two new columns"
   ]
  },
  {
   "cell_type": "markdown",
   "metadata": {},
   "source": [
    "We do not need over detailed precision for this timestamps. We can round dates to 1 second"
   ]
  },
  {
   "cell_type": "code",
   "execution_count": 21,
   "metadata": {},
   "outputs": [],
   "source": [
    "ciclopi['DataOraPrelievo']=ciclopi['DataOraPrelievo'].dt.round('1s') #round date time to 1 second\n",
    "ciclopi['DataOraDeposito']=ciclopi['DataOraDeposito'].dt.round('1s')"
   ]
  },
  {
   "cell_type": "markdown",
   "metadata": {},
   "source": [
    "### Enriching data\n",
    "For our analysis we are going to check how long the rent of the bike is. Since there is no explicit attribute on this property, we derive a new attribute by computing the temporal duration (in seconds) from the pick up till the drop off. We call the new attribute _Durata_ (duration)\n"
   ]
  },
  {
   "cell_type": "code",
   "execution_count": 22,
   "metadata": {},
   "outputs": [],
   "source": [
    "ciclopi['Durata']=(ciclopi['DataOraDeposito']-ciclopi['DataOraPrelievo']).dt.seconds "
   ]
  },
  {
   "cell_type": "markdown",
   "metadata": {},
   "source": [
    "Let's check some statistical propertied of the new attribute."
   ]
  },
  {
   "cell_type": "code",
   "execution_count": 24,
   "metadata": {},
   "outputs": [
    {
     "data": {
      "text/html": [
       "<div>\n",
       "<style scoped>\n",
       "    .dataframe tbody tr th:only-of-type {\n",
       "        vertical-align: middle;\n",
       "    }\n",
       "\n",
       "    .dataframe tbody tr th {\n",
       "        vertical-align: top;\n",
       "    }\n",
       "\n",
       "    .dataframe thead th {\n",
       "        text-align: right;\n",
       "    }\n",
       "</style>\n",
       "<table border=\"1\" class=\"dataframe\">\n",
       "  <thead>\n",
       "    <tr style=\"text-align: right;\">\n",
       "      <th></th>\n",
       "      <th>ColonninaPrelievo</th>\n",
       "      <th>ColonninaDeposito</th>\n",
       "      <th>IDBadge</th>\n",
       "      <th>Durata</th>\n",
       "    </tr>\n",
       "  </thead>\n",
       "  <tbody>\n",
       "    <tr>\n",
       "      <th>count</th>\n",
       "      <td>173332.000000</td>\n",
       "      <td>173332.000000</td>\n",
       "      <td>173332.000000</td>\n",
       "      <td>173332.000000</td>\n",
       "    </tr>\n",
       "    <tr>\n",
       "      <th>mean</th>\n",
       "      <td>10.535020</td>\n",
       "      <td>10.508631</td>\n",
       "      <td>152183.715148</td>\n",
       "      <td>1434.432182</td>\n",
       "    </tr>\n",
       "    <tr>\n",
       "      <th>std</th>\n",
       "      <td>7.656888</td>\n",
       "      <td>7.655139</td>\n",
       "      <td>26408.404822</td>\n",
       "      <td>6484.701703</td>\n",
       "    </tr>\n",
       "    <tr>\n",
       "      <th>min</th>\n",
       "      <td>1.000000</td>\n",
       "      <td>1.000000</td>\n",
       "      <td>94286.000000</td>\n",
       "      <td>0.000000</td>\n",
       "    </tr>\n",
       "    <tr>\n",
       "      <th>25%</th>\n",
       "      <td>4.000000</td>\n",
       "      <td>4.000000</td>\n",
       "      <td>134249.000000</td>\n",
       "      <td>348.000000</td>\n",
       "    </tr>\n",
       "    <tr>\n",
       "      <th>50%</th>\n",
       "      <td>9.000000</td>\n",
       "      <td>9.000000</td>\n",
       "      <td>156765.000000</td>\n",
       "      <td>506.000000</td>\n",
       "    </tr>\n",
       "    <tr>\n",
       "      <th>75%</th>\n",
       "      <td>15.000000</td>\n",
       "      <td>15.000000</td>\n",
       "      <td>167356.000000</td>\n",
       "      <td>750.000000</td>\n",
       "    </tr>\n",
       "    <tr>\n",
       "      <th>max</th>\n",
       "      <td>30.000000</td>\n",
       "      <td>30.000000</td>\n",
       "      <td>201333.000000</td>\n",
       "      <td>86388.000000</td>\n",
       "    </tr>\n",
       "  </tbody>\n",
       "</table>\n",
       "</div>"
      ],
      "text/plain": [
       "       ColonninaPrelievo  ColonninaDeposito        IDBadge         Durata\n",
       "count      173332.000000      173332.000000  173332.000000  173332.000000\n",
       "mean           10.535020          10.508631  152183.715148    1434.432182\n",
       "std             7.656888           7.655139   26408.404822    6484.701703\n",
       "min             1.000000           1.000000   94286.000000       0.000000\n",
       "25%             4.000000           4.000000  134249.000000     348.000000\n",
       "50%             9.000000           9.000000  156765.000000     506.000000\n",
       "75%            15.000000          15.000000  167356.000000     750.000000\n",
       "max            30.000000          30.000000  201333.000000   86388.000000"
      ]
     },
     "execution_count": 24,
     "metadata": {},
     "output_type": "execute_result"
    }
   ],
   "source": [
    "ciclopi.describe()"
   ]
  },
  {
   "cell_type": "markdown",
   "metadata": {},
   "source": [
    "In this domain, it is relevant to study the use of the service in different time intervals during the year. In particular we may take into account the difference of use during seasons, weekend, weekday, hour of the day, etc.\n",
    "Thus we explictly extract date parts attributes from the timestamp we parsed above."
   ]
  },
  {
   "cell_type": "code",
   "execution_count": 25,
   "metadata": {},
   "outputs": [],
   "source": [
    "ciclopi['DataPrelievo']=ciclopi['DataOraPrelievo'].dt.date\n",
    "ciclopi['MesePrelievo']=ciclopi['DataOraPrelievo'].dt.month\n",
    "ciclopi['SettimanaPrelievo']=ciclopi['DataOraPrelievo'].dt.week\n",
    "ciclopi['GiornoPrelievo']=ciclopi['DataOraPrelievo'].dt.weekday\n",
    "ciclopi['GiornoPrelievo_st']=ciclopi['DataOraPrelievo'].dt.weekday_name\n",
    "ciclopi['OrarioPrelievo']=ciclopi['DataOraPrelievo'].dt.time\n",
    "ciclopi['OraPrelievo']=ciclopi['DataOraPrelievo'].dt.hour"
   ]
  },
  {
   "cell_type": "code",
   "execution_count": 26,
   "metadata": {},
   "outputs": [],
   "source": [
    "ciclopi['DataDeposito']=ciclopi['DataOraDeposito'].dt.date\n",
    "ciclopi['SettimanaDeposito']=ciclopi['DataOraDeposito'].dt.week\n",
    "ciclopi['GiornoDeposito']=ciclopi['DataOraDeposito'].dt.weekday\n",
    "ciclopi['GiornoDeposito_st']=ciclopi['DataOraDeposito'].dt.weekday_name\n",
    "ciclopi['OrarioDeposito']=ciclopi['DataOraDeposito'].dt.time\n",
    "ciclopi['OraDeposito']=ciclopi['DataOraDeposito'].dt.hour"
   ]
  },
  {
   "cell_type": "code",
   "execution_count": 27,
   "metadata": {},
   "outputs": [
    {
     "data": {
      "text/html": [
       "<div>\n",
       "<style scoped>\n",
       "    .dataframe tbody tr th:only-of-type {\n",
       "        vertical-align: middle;\n",
       "    }\n",
       "\n",
       "    .dataframe tbody tr th {\n",
       "        vertical-align: top;\n",
       "    }\n",
       "\n",
       "    .dataframe thead th {\n",
       "        text-align: right;\n",
       "    }\n",
       "</style>\n",
       "<table border=\"1\" class=\"dataframe\">\n",
       "  <thead>\n",
       "    <tr style=\"text-align: right;\">\n",
       "      <th></th>\n",
       "      <th>StazPrelievo</th>\n",
       "      <th>DataOraPrelievo</th>\n",
       "      <th>ColonninaPrelievo</th>\n",
       "      <th>StazDeposito</th>\n",
       "      <th>ColonninaDeposito</th>\n",
       "      <th>DataOraDeposito</th>\n",
       "      <th>IDBadge</th>\n",
       "      <th>Durata</th>\n",
       "      <th>DataPrelievo</th>\n",
       "      <th>MesePrelievo</th>\n",
       "      <th>SettimanaPrelievo</th>\n",
       "      <th>GiornoPrelievo</th>\n",
       "      <th>GiornoPrelievo_st</th>\n",
       "      <th>OrarioPrelievo</th>\n",
       "      <th>OraPrelievo</th>\n",
       "      <th>DataDeposito</th>\n",
       "      <th>SettimanaDeposito</th>\n",
       "      <th>GiornoDeposito</th>\n",
       "      <th>GiornoDeposito_st</th>\n",
       "      <th>OrarioDeposito</th>\n",
       "      <th>OraDeposito</th>\n",
       "    </tr>\n",
       "  </thead>\n",
       "  <tbody>\n",
       "    <tr>\n",
       "      <th>173327</th>\n",
       "      <td>Pratale</td>\n",
       "      <td>2015-12-31 16:43:49</td>\n",
       "      <td>13</td>\n",
       "      <td>Vittorio Emanuele</td>\n",
       "      <td>5</td>\n",
       "      <td>2015-12-31 17:01:59</td>\n",
       "      <td>156604</td>\n",
       "      <td>1090</td>\n",
       "      <td>2015-12-31</td>\n",
       "      <td>12</td>\n",
       "      <td>53</td>\n",
       "      <td>3</td>\n",
       "      <td>Thursday</td>\n",
       "      <td>16:43:49</td>\n",
       "      <td>16</td>\n",
       "      <td>2015-12-31</td>\n",
       "      <td>53</td>\n",
       "      <td>3</td>\n",
       "      <td>Thursday</td>\n",
       "      <td>17:01:59</td>\n",
       "      <td>17</td>\n",
       "    </tr>\n",
       "    <tr>\n",
       "      <th>173328</th>\n",
       "      <td>Porta a Lucca</td>\n",
       "      <td>2015-12-31 18:24:42</td>\n",
       "      <td>6</td>\n",
       "      <td>Vittorio Emanuele</td>\n",
       "      <td>4</td>\n",
       "      <td>2015-12-31 18:34:57</td>\n",
       "      <td>194690</td>\n",
       "      <td>615</td>\n",
       "      <td>2015-12-31</td>\n",
       "      <td>12</td>\n",
       "      <td>53</td>\n",
       "      <td>3</td>\n",
       "      <td>Thursday</td>\n",
       "      <td>18:24:42</td>\n",
       "      <td>18</td>\n",
       "      <td>2015-12-31</td>\n",
       "      <td>53</td>\n",
       "      <td>3</td>\n",
       "      <td>Thursday</td>\n",
       "      <td>18:34:57</td>\n",
       "      <td>18</td>\n",
       "    </tr>\n",
       "    <tr>\n",
       "      <th>173329</th>\n",
       "      <td>Stazione F.S.</td>\n",
       "      <td>2015-12-31 18:42:29</td>\n",
       "      <td>27</td>\n",
       "      <td>Ospedale Cisanello</td>\n",
       "      <td>10</td>\n",
       "      <td>2015-12-31 18:55:41</td>\n",
       "      <td>188285</td>\n",
       "      <td>792</td>\n",
       "      <td>2015-12-31</td>\n",
       "      <td>12</td>\n",
       "      <td>53</td>\n",
       "      <td>3</td>\n",
       "      <td>Thursday</td>\n",
       "      <td>18:42:29</td>\n",
       "      <td>18</td>\n",
       "      <td>2015-12-31</td>\n",
       "      <td>53</td>\n",
       "      <td>3</td>\n",
       "      <td>Thursday</td>\n",
       "      <td>18:55:41</td>\n",
       "      <td>18</td>\n",
       "    </tr>\n",
       "    <tr>\n",
       "      <th>173330</th>\n",
       "      <td>Teatro Tribunale</td>\n",
       "      <td>2015-12-31 19:44:21</td>\n",
       "      <td>7</td>\n",
       "      <td>Comune Palazzo Blu</td>\n",
       "      <td>13</td>\n",
       "      <td>2015-12-31 19:47:08</td>\n",
       "      <td>156631</td>\n",
       "      <td>167</td>\n",
       "      <td>2015-12-31</td>\n",
       "      <td>12</td>\n",
       "      <td>53</td>\n",
       "      <td>3</td>\n",
       "      <td>Thursday</td>\n",
       "      <td>19:44:21</td>\n",
       "      <td>19</td>\n",
       "      <td>2015-12-31</td>\n",
       "      <td>53</td>\n",
       "      <td>3</td>\n",
       "      <td>Thursday</td>\n",
       "      <td>19:47:08</td>\n",
       "      <td>19</td>\n",
       "    </tr>\n",
       "    <tr>\n",
       "      <th>173331</th>\n",
       "      <td>Pratale</td>\n",
       "      <td>2015-12-31 21:35:41</td>\n",
       "      <td>14</td>\n",
       "      <td>Stazione F.S.</td>\n",
       "      <td>27</td>\n",
       "      <td>2015-12-31 21:49:59</td>\n",
       "      <td>126270</td>\n",
       "      <td>858</td>\n",
       "      <td>2015-12-31</td>\n",
       "      <td>12</td>\n",
       "      <td>53</td>\n",
       "      <td>3</td>\n",
       "      <td>Thursday</td>\n",
       "      <td>21:35:41</td>\n",
       "      <td>21</td>\n",
       "      <td>2015-12-31</td>\n",
       "      <td>53</td>\n",
       "      <td>3</td>\n",
       "      <td>Thursday</td>\n",
       "      <td>21:49:59</td>\n",
       "      <td>21</td>\n",
       "    </tr>\n",
       "  </tbody>\n",
       "</table>\n",
       "</div>"
      ],
      "text/plain": [
       "            StazPrelievo     DataOraPrelievo  ColonninaPrelievo  \\\n",
       "173327           Pratale 2015-12-31 16:43:49                 13   \n",
       "173328     Porta a Lucca 2015-12-31 18:24:42                  6   \n",
       "173329     Stazione F.S. 2015-12-31 18:42:29                 27   \n",
       "173330  Teatro Tribunale 2015-12-31 19:44:21                  7   \n",
       "173331           Pratale 2015-12-31 21:35:41                 14   \n",
       "\n",
       "              StazDeposito  ColonninaDeposito     DataOraDeposito  IDBadge  \\\n",
       "173327   Vittorio Emanuele                  5 2015-12-31 17:01:59   156604   \n",
       "173328   Vittorio Emanuele                  4 2015-12-31 18:34:57   194690   \n",
       "173329  Ospedale Cisanello                 10 2015-12-31 18:55:41   188285   \n",
       "173330  Comune Palazzo Blu                 13 2015-12-31 19:47:08   156631   \n",
       "173331       Stazione F.S.                 27 2015-12-31 21:49:59   126270   \n",
       "\n",
       "        Durata DataPrelievo  MesePrelievo  SettimanaPrelievo  GiornoPrelievo  \\\n",
       "173327    1090   2015-12-31            12                 53               3   \n",
       "173328     615   2015-12-31            12                 53               3   \n",
       "173329     792   2015-12-31            12                 53               3   \n",
       "173330     167   2015-12-31            12                 53               3   \n",
       "173331     858   2015-12-31            12                 53               3   \n",
       "\n",
       "       GiornoPrelievo_st OrarioPrelievo  OraPrelievo DataDeposito  \\\n",
       "173327          Thursday       16:43:49           16   2015-12-31   \n",
       "173328          Thursday       18:24:42           18   2015-12-31   \n",
       "173329          Thursday       18:42:29           18   2015-12-31   \n",
       "173330          Thursday       19:44:21           19   2015-12-31   \n",
       "173331          Thursday       21:35:41           21   2015-12-31   \n",
       "\n",
       "        SettimanaDeposito  GiornoDeposito GiornoDeposito_st OrarioDeposito  \\\n",
       "173327                 53               3          Thursday       17:01:59   \n",
       "173328                 53               3          Thursday       18:34:57   \n",
       "173329                 53               3          Thursday       18:55:41   \n",
       "173330                 53               3          Thursday       19:47:08   \n",
       "173331                 53               3          Thursday       21:49:59   \n",
       "\n",
       "        OraDeposito  \n",
       "173327           17  \n",
       "173328           18  \n",
       "173329           18  \n",
       "173330           19  \n",
       "173331           21  "
      ]
     },
     "execution_count": 27,
     "metadata": {},
     "output_type": "execute_result"
    }
   ],
   "source": [
    "ciclopi.tail()"
   ]
  },
  {
   "cell_type": "markdown",
   "metadata": {},
   "source": [
    "For each day we infer the season. \n",
    "\n",
    "Attention: Winter is starting on December 21st and ends to March 21st. Since it is crossing the new year, we make a numeri tranformation, translating all the days of the year by 11 (i.e. moving 21st to eh new year) and then taking the results modulo 366"
   ]
  },
  {
   "cell_type": "code",
   "execution_count": null,
   "metadata": {},
   "outputs": [],
   "source": [
    "ciclopi['Stagione']=pd.cut(\n",
    "    (ciclopi['DataOraPrelievo'].dt.dayofyear + 11) % 366, \n",
    "    [0, 91, 183, 275, 366],\n",
    "    labels=['inverno', 'primavera', 'estate', 'autunno']\n",
    ")"
   ]
  },
  {
   "cell_type": "markdown",
   "metadata": {},
   "source": [
    "In a similar way, we assign to each time of the day the reference to a list of time slots."
   ]
  },
  {
   "cell_type": "code",
   "execution_count": 28,
   "metadata": {},
   "outputs": [],
   "source": [
    "ciclopi['FasciaOraria']=pd.cut(\n",
    "    ciclopi['OraPrelievo'],\n",
    "    [0, 7, 9, 12, 15, 18, 21, 24],\n",
    "    labels=['00-07 ', '07-09','09-12', '12-15', '15-18','18-21','21-24']\n",
    ")"
   ]
  },
  {
   "cell_type": "markdown",
   "metadata": {},
   "source": [
    "To assess the intensity of use of the service, we want to estimate the time between a drop and the successive pick up of the same user."
   ]
  },
  {
   "cell_type": "code",
   "execution_count": 29,
   "metadata": {},
   "outputs": [],
   "source": [
    "ciclopi=ciclopi.sort_values(by=['IDBadge','DataOraPrelievo']) #sort dataset by id Badge and date time"
   ]
  },
  {
   "cell_type": "code",
   "execution_count": 30,
   "metadata": {},
   "outputs": [],
   "source": [
    "ciclopi['next_IDBadge']=ciclopi['IDBadge'].shift(-1) #save next row id badge in a new column\n",
    "ciclopi['next_DataOraPrelievo']=ciclopi['DataOraPrelievo'].shift(-1) #save next row release of the bicycle time in a new column\n",
    "ciclopi['Sosta']=np.nan #create an empty column named sosta\n",
    "ciclopi['Sosta'][ciclopi['IDBadge']==ciclopi['next_IDBadge']]=(ciclopi['next_DataOraPrelievo']-ciclopi['DataOraDeposito']).dt.seconds"
   ]
  },
  {
   "cell_type": "code",
   "execution_count": 31,
   "metadata": {},
   "outputs": [],
   "source": [
    "ciclopi=ciclopi.drop(['next_IDBadge','next_DataOraPrelievo'],axis=1)"
   ]
  },
  {
   "cell_type": "code",
   "execution_count": 32,
   "metadata": {},
   "outputs": [
    {
     "data": {
      "text/html": [
       "<div>\n",
       "<style scoped>\n",
       "    .dataframe tbody tr th:only-of-type {\n",
       "        vertical-align: middle;\n",
       "    }\n",
       "\n",
       "    .dataframe tbody tr th {\n",
       "        vertical-align: top;\n",
       "    }\n",
       "\n",
       "    .dataframe thead th {\n",
       "        text-align: right;\n",
       "    }\n",
       "</style>\n",
       "<table border=\"1\" class=\"dataframe\">\n",
       "  <thead>\n",
       "    <tr style=\"text-align: right;\">\n",
       "      <th></th>\n",
       "      <th>StazPrelievo</th>\n",
       "      <th>DataOraPrelievo</th>\n",
       "      <th>ColonninaPrelievo</th>\n",
       "      <th>StazDeposito</th>\n",
       "      <th>ColonninaDeposito</th>\n",
       "      <th>DataOraDeposito</th>\n",
       "      <th>IDBadge</th>\n",
       "      <th>Durata</th>\n",
       "      <th>DataPrelievo</th>\n",
       "      <th>MesePrelievo</th>\n",
       "      <th>SettimanaPrelievo</th>\n",
       "      <th>GiornoPrelievo</th>\n",
       "      <th>GiornoPrelievo_st</th>\n",
       "      <th>OrarioPrelievo</th>\n",
       "      <th>OraPrelievo</th>\n",
       "      <th>DataDeposito</th>\n",
       "      <th>SettimanaDeposito</th>\n",
       "      <th>GiornoDeposito</th>\n",
       "      <th>GiornoDeposito_st</th>\n",
       "      <th>OrarioDeposito</th>\n",
       "      <th>OraDeposito</th>\n",
       "      <th>FasciaOraria</th>\n",
       "      <th>Sosta</th>\n",
       "    </tr>\n",
       "  </thead>\n",
       "  <tbody>\n",
       "    <tr>\n",
       "      <th>94781</th>\n",
       "      <td>Vittorio Emanuele</td>\n",
       "      <td>2015-07-01 13:24:57</td>\n",
       "      <td>5</td>\n",
       "      <td>Sms Biblioteca</td>\n",
       "      <td>2</td>\n",
       "      <td>2015-07-01 13:31:57</td>\n",
       "      <td>94286</td>\n",
       "      <td>420</td>\n",
       "      <td>2015-07-01</td>\n",
       "      <td>7</td>\n",
       "      <td>27</td>\n",
       "      <td>2</td>\n",
       "      <td>Wednesday</td>\n",
       "      <td>13:24:57</td>\n",
       "      <td>13</td>\n",
       "      <td>2015-07-01</td>\n",
       "      <td>27</td>\n",
       "      <td>2</td>\n",
       "      <td>Wednesday</td>\n",
       "      <td>13:31:57</td>\n",
       "      <td>13</td>\n",
       "      <td>12-15</td>\n",
       "      <td>60555.0</td>\n",
       "    </tr>\n",
       "    <tr>\n",
       "      <th>96668</th>\n",
       "      <td>Sms Biblioteca</td>\n",
       "      <td>2015-07-06 06:21:12</td>\n",
       "      <td>7</td>\n",
       "      <td>Stazione F.S.</td>\n",
       "      <td>8</td>\n",
       "      <td>2015-07-06 06:31:00</td>\n",
       "      <td>94286</td>\n",
       "      <td>588</td>\n",
       "      <td>2015-07-06</td>\n",
       "      <td>7</td>\n",
       "      <td>28</td>\n",
       "      <td>0</td>\n",
       "      <td>Monday</td>\n",
       "      <td>06:21:12</td>\n",
       "      <td>6</td>\n",
       "      <td>2015-07-06</td>\n",
       "      <td>28</td>\n",
       "      <td>0</td>\n",
       "      <td>Monday</td>\n",
       "      <td>06:31:00</td>\n",
       "      <td>6</td>\n",
       "      <td>00-07</td>\n",
       "      <td>NaN</td>\n",
       "    </tr>\n",
       "    <tr>\n",
       "      <th>3205</th>\n",
       "      <td>Borgo Stretto</td>\n",
       "      <td>2015-01-13 18:57:16</td>\n",
       "      <td>9</td>\n",
       "      <td>Stazione F.S.</td>\n",
       "      <td>5</td>\n",
       "      <td>2015-01-13 19:05:34</td>\n",
       "      <td>94310</td>\n",
       "      <td>498</td>\n",
       "      <td>2015-01-13</td>\n",
       "      <td>1</td>\n",
       "      <td>3</td>\n",
       "      <td>1</td>\n",
       "      <td>Tuesday</td>\n",
       "      <td>18:57:16</td>\n",
       "      <td>18</td>\n",
       "      <td>2015-01-13</td>\n",
       "      <td>3</td>\n",
       "      <td>1</td>\n",
       "      <td>Tuesday</td>\n",
       "      <td>19:05:34</td>\n",
       "      <td>19</td>\n",
       "      <td>15-18</td>\n",
       "      <td>55492.0</td>\n",
       "    </tr>\n",
       "    <tr>\n",
       "      <th>3511</th>\n",
       "      <td>Stazione F.S.</td>\n",
       "      <td>2015-01-14 10:30:26</td>\n",
       "      <td>25</td>\n",
       "      <td>Stazione F.S.</td>\n",
       "      <td>27</td>\n",
       "      <td>2015-01-14 10:31:36</td>\n",
       "      <td>94310</td>\n",
       "      <td>70</td>\n",
       "      <td>2015-01-14</td>\n",
       "      <td>1</td>\n",
       "      <td>3</td>\n",
       "      <td>2</td>\n",
       "      <td>Wednesday</td>\n",
       "      <td>10:30:26</td>\n",
       "      <td>10</td>\n",
       "      <td>2015-01-14</td>\n",
       "      <td>3</td>\n",
       "      <td>2</td>\n",
       "      <td>Wednesday</td>\n",
       "      <td>10:31:36</td>\n",
       "      <td>10</td>\n",
       "      <td>09-12</td>\n",
       "      <td>17.0</td>\n",
       "    </tr>\n",
       "    <tr>\n",
       "      <th>3512</th>\n",
       "      <td>Stazione F.S.</td>\n",
       "      <td>2015-01-14 10:31:53</td>\n",
       "      <td>21</td>\n",
       "      <td>Borgo Stretto</td>\n",
       "      <td>1</td>\n",
       "      <td>2015-01-14 10:39:11</td>\n",
       "      <td>94310</td>\n",
       "      <td>438</td>\n",
       "      <td>2015-01-14</td>\n",
       "      <td>1</td>\n",
       "      <td>3</td>\n",
       "      <td>2</td>\n",
       "      <td>Wednesday</td>\n",
       "      <td>10:31:53</td>\n",
       "      <td>10</td>\n",
       "      <td>2015-01-14</td>\n",
       "      <td>3</td>\n",
       "      <td>2</td>\n",
       "      <td>Wednesday</td>\n",
       "      <td>10:39:11</td>\n",
       "      <td>10</td>\n",
       "      <td>09-12</td>\n",
       "      <td>24785.0</td>\n",
       "    </tr>\n",
       "  </tbody>\n",
       "</table>\n",
       "</div>"
      ],
      "text/plain": [
       "            StazPrelievo     DataOraPrelievo  ColonninaPrelievo  \\\n",
       "94781  Vittorio Emanuele 2015-07-01 13:24:57                  5   \n",
       "96668     Sms Biblioteca 2015-07-06 06:21:12                  7   \n",
       "3205       Borgo Stretto 2015-01-13 18:57:16                  9   \n",
       "3511       Stazione F.S. 2015-01-14 10:30:26                 25   \n",
       "3512       Stazione F.S. 2015-01-14 10:31:53                 21   \n",
       "\n",
       "         StazDeposito  ColonninaDeposito     DataOraDeposito  IDBadge  Durata  \\\n",
       "94781  Sms Biblioteca                  2 2015-07-01 13:31:57    94286     420   \n",
       "96668   Stazione F.S.                  8 2015-07-06 06:31:00    94286     588   \n",
       "3205    Stazione F.S.                  5 2015-01-13 19:05:34    94310     498   \n",
       "3511    Stazione F.S.                 27 2015-01-14 10:31:36    94310      70   \n",
       "3512    Borgo Stretto                  1 2015-01-14 10:39:11    94310     438   \n",
       "\n",
       "      DataPrelievo  MesePrelievo  SettimanaPrelievo  GiornoPrelievo  \\\n",
       "94781   2015-07-01             7                 27               2   \n",
       "96668   2015-07-06             7                 28               0   \n",
       "3205    2015-01-13             1                  3               1   \n",
       "3511    2015-01-14             1                  3               2   \n",
       "3512    2015-01-14             1                  3               2   \n",
       "\n",
       "      GiornoPrelievo_st OrarioPrelievo  OraPrelievo DataDeposito  \\\n",
       "94781         Wednesday       13:24:57           13   2015-07-01   \n",
       "96668            Monday       06:21:12            6   2015-07-06   \n",
       "3205            Tuesday       18:57:16           18   2015-01-13   \n",
       "3511          Wednesday       10:30:26           10   2015-01-14   \n",
       "3512          Wednesday       10:31:53           10   2015-01-14   \n",
       "\n",
       "       SettimanaDeposito  GiornoDeposito GiornoDeposito_st OrarioDeposito  \\\n",
       "94781                 27               2         Wednesday       13:31:57   \n",
       "96668                 28               0            Monday       06:31:00   \n",
       "3205                   3               1           Tuesday       19:05:34   \n",
       "3511                   3               2         Wednesday       10:31:36   \n",
       "3512                   3               2         Wednesday       10:39:11   \n",
       "\n",
       "       OraDeposito FasciaOraria    Sosta  \n",
       "94781           13        12-15  60555.0  \n",
       "96668            6       00-07       NaN  \n",
       "3205            19        15-18  55492.0  \n",
       "3511            10        09-12     17.0  \n",
       "3512            10        09-12  24785.0  "
      ]
     },
     "execution_count": 32,
     "metadata": {},
     "output_type": "execute_result"
    }
   ],
   "source": [
    "ciclopi.head()"
   ]
  },
  {
   "cell_type": "markdown",
   "metadata": {},
   "source": [
    "Save and check column names"
   ]
  },
  {
   "cell_type": "code",
   "execution_count": 33,
   "metadata": {},
   "outputs": [
    {
     "data": {
      "text/plain": [
       "['StazPrelievo',\n",
       " 'DataOraPrelievo',\n",
       " 'ColonninaPrelievo',\n",
       " 'StazDeposito',\n",
       " 'ColonninaDeposito',\n",
       " 'DataOraDeposito',\n",
       " 'IDBadge',\n",
       " 'Durata',\n",
       " 'DataPrelievo',\n",
       " 'MesePrelievo',\n",
       " 'SettimanaPrelievo',\n",
       " 'GiornoPrelievo',\n",
       " 'GiornoPrelievo_st',\n",
       " 'OrarioPrelievo',\n",
       " 'OraPrelievo',\n",
       " 'DataDeposito',\n",
       " 'SettimanaDeposito',\n",
       " 'GiornoDeposito',\n",
       " 'GiornoDeposito_st',\n",
       " 'OrarioDeposito',\n",
       " 'OraDeposito',\n",
       " 'FasciaOraria',\n",
       " 'Sosta']"
      ]
     },
     "execution_count": 33,
     "metadata": {},
     "output_type": "execute_result"
    }
   ],
   "source": [
    "columns=ciclopi.columns.tolist() \n",
    "columns"
   ]
  },
  {
   "cell_type": "markdown",
   "metadata": {},
   "source": [
    "Save the dataframe ciclopi in a new csv file for next notebook"
   ]
  },
  {
   "cell_type": "code",
   "execution_count": 34,
   "metadata": {},
   "outputs": [],
   "source": [
    "ciclopi.to_csv('data_in/02_ciclopi.csv',sep=';', index=False) #export data into a new csv for next notebook"
   ]
  },
  {
   "cell_type": "code",
   "execution_count": null,
   "metadata": {},
   "outputs": [],
   "source": []
  }
 ],
 "metadata": {
  "kernelspec": {
   "display_name": "Python 3",
   "language": "python",
   "name": "python3"
  },
  "language_info": {
   "codemirror_mode": {
    "name": "ipython",
    "version": 3
   },
   "file_extension": ".py",
   "mimetype": "text/x-python",
   "name": "python",
   "nbconvert_exporter": "python",
   "pygments_lexer": "ipython3",
   "version": "3.6.4"
  }
 },
 "nbformat": 4,
 "nbformat_minor": 2
}
